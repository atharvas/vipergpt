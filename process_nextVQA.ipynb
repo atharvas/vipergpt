{
 "cells": [
  {
   "cell_type": "code",
   "execution_count": 8,
   "metadata": {},
   "outputs": [],
   "source": [
    "import os\n",
    "import h5py\n"
   ]
  },
  {
   "cell_type": "code",
   "execution_count": 7,
   "metadata": {},
   "outputs": [
    {
     "name": "stdout",
     "output_type": "stream",
     "text": [
      "['validation-annotation.zip', 'video', 'validation-video.zip', 'validation']\n"
     ]
    },
    {
     "data": {
      "text/plain": [
       "'data/nextVQA/video/1027'"
      ]
     },
     "execution_count": 7,
     "metadata": {},
     "output_type": "execute_result"
    }
   ],
   "source": [
    "print(os.listdir(\"data/nextVQA\"))\n",
    "annotations_dir = \"data/nextVQA/validation\"\n",
    "videos_dir = \"data/nextVQA/video\"\n",
    "\n",
    "\n",
    "# for file_id in os.listdir(annotations_dir):\n",
    "#     video_pth = os.path.join(videos_dir, file_id)\n",
    "#     break\n",
    "\n",
    "# video_pth\n"
   ]
  }
 ],
 "metadata": {
  "kernelspec": {
   "display_name": "vipergpt",
   "language": "python",
   "name": "python3"
  },
  "language_info": {
   "codemirror_mode": {
    "name": "ipython",
    "version": 3
   },
   "file_extension": ".py",
   "mimetype": "text/x-python",
   "name": "python",
   "nbconvert_exporter": "python",
   "pygments_lexer": "ipython3",
   "version": "3.10.12"
  },
  "orig_nbformat": 4
 },
 "nbformat": 4,
 "nbformat_minor": 2
}
