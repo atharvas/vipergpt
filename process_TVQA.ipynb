{
 "cells": [
  {
   "cell_type": "code",
   "execution_count": 2,
   "metadata": {},
   "outputs": [
    {
     "data": {
      "text/html": [
       "<div>\n",
       "<style scoped>\n",
       "    .dataframe tbody tr th:only-of-type {\n",
       "        vertical-align: middle;\n",
       "    }\n",
       "\n",
       "    .dataframe tbody tr th {\n",
       "        vertical-align: top;\n",
       "    }\n",
       "\n",
       "    .dataframe thead th {\n",
       "        text-align: right;\n",
       "    }\n",
       "</style>\n",
       "<table border=\"1\" class=\"dataframe\">\n",
       "  <thead>\n",
       "    <tr style=\"text-align: right;\">\n",
       "      <th></th>\n",
       "      <th>index</th>\n",
       "      <th>sample_id</th>\n",
       "      <th>possible_answers</th>\n",
       "      <th>query_type</th>\n",
       "      <th>query</th>\n",
       "      <th>answer</th>\n",
       "      <th>video_name</th>\n",
       "    </tr>\n",
       "  </thead>\n",
       "  <tbody>\n",
       "    <tr>\n",
       "      <th>0</th>\n",
       "      <td>0</td>\n",
       "      <td>0</td>\n",
       "      <td></td>\n",
       "      <td></td>\n",
       "      <td>What room was Wilson breaking into when House ...</td>\n",
       "      <td>The kitchen.</td>\n",
       "      <td>house_s07e01_seg02_clip_12.mp4</td>\n",
       "    </tr>\n",
       "  </tbody>\n",
       "</table>\n",
       "</div>"
      ],
      "text/plain": [
       "   index  sample_id possible_answers query_type  \\\n",
       "0      0          0                               \n",
       "\n",
       "                                               query        answer  \\\n",
       "0  What room was Wilson breaking into when House ...  The kitchen.   \n",
       "\n",
       "                       video_name  \n",
       "0  house_s07e01_seg02_clip_12.mp4  "
      ]
     },
     "execution_count": 2,
     "metadata": {},
     "output_type": "execute_result"
    }
   ],
   "source": [
    "# Example 1:\n",
    "# Download video\n",
    "# !wget https://tvqa.cs.unc.edu/videos/house_s07e01_seg02_clip_12.mp4 -P data/videos\n",
    "\n",
    "\n",
    "# Question What room was Wilson breaking into when House found him?\n",
    "# Answer 0 The bedroom.\n",
    "# Answer 1 The bathroom.\n",
    "# Answer 2 The living room.\n",
    "# Answer 3 The kitchen.\n",
    "# Answer 4 The dining room.\n",
    "\n",
    "# (Correct answer: 3)\n",
    "\n",
    "# index,sample_id,possible_answers,query_type,query,answer,video_name\n",
    "# 0,0,,,What time in the video does the rocket lift off?,,videos/crs28small.mp4\n",
    "import pandas as pd\n",
    "df = pd.DataFrame.from_dict({\n",
    "    'index': [0],\n",
    "    'sample_id': [0],\n",
    "    'possible_answers': [''], # @TODO: how does Viper parse answers to CSV\n",
    "    'query_type': [''],\n",
    "    'query': ['What room was Wilson breaking into when House found him?'],\n",
    "    'answer': ['The kitchen.'],\n",
    "    'video_name': ['house_s07e01_seg02_clip_12.mp4']\n",
    "})\n",
    "df"
   ]
  },
  {
   "cell_type": "code",
   "execution_count": 3,
   "metadata": {},
   "outputs": [],
   "source": [
    "df.to_csv('data/TVQA_query1.csv', index=False)"
   ]
  },
  {
   "cell_type": "code",
   "execution_count": null,
   "metadata": {},
   "outputs": [],
   "source": [
    "# Run\n",
    "# conda activate vipergpt\n",
    "# CUDA_VISIBLE_DEVICES=0 CONFIG_NAMES=TVQA_video_config python main_batch.py"
   ]
  },
  {
   "cell_type": "code",
   "execution_count": null,
   "metadata": {},
   "outputs": [],
   "source": [
    "\"\"\"\n",
    "Code Generated:\n",
    "===\n",
    "def execute_command(video):\n",
    "    video_segment = VideoSegment(video)\n",
    "    for frame in video_segment.frame_iterator():\n",
    "        if frame.exists(\"Wilson\") and frame.exists(\"House\") and frame.simple_query(\"What room is Wilson breaking into?\") == \"yes\":\n",
    "            return frame.llm_query(\"What room was Wilson breaking into when House found him?\")\n",
    "\n",
    "===\n",
    "It filters the videos for the ones that contain both Wilson and House, and for the first frame it finds, it asks\n",
    "GPT to give the answer without using any of the information in the room. \n",
    "\"\"\""
   ]
  },
  {
   "cell_type": "code",
   "execution_count": 5,
   "metadata": {},
   "outputs": [
    {
     "data": {
      "text/html": [
       "<div>\n",
       "<style scoped>\n",
       "    .dataframe tbody tr th:only-of-type {\n",
       "        vertical-align: middle;\n",
       "    }\n",
       "\n",
       "    .dataframe tbody tr th {\n",
       "        vertical-align: top;\n",
       "    }\n",
       "\n",
       "    .dataframe thead th {\n",
       "        text-align: right;\n",
       "    }\n",
       "</style>\n",
       "<table border=\"1\" class=\"dataframe\">\n",
       "  <thead>\n",
       "    <tr style=\"text-align: right;\">\n",
       "      <th></th>\n",
       "      <th>result</th>\n",
       "      <th>answer</th>\n",
       "      <th>code</th>\n",
       "      <th>id</th>\n",
       "      <th>query</th>\n",
       "      <th>img_path</th>\n",
       "      <th>possible_answers</th>\n",
       "    </tr>\n",
       "  </thead>\n",
       "  <tbody>\n",
       "    <tr>\n",
       "      <th>0</th>\n",
       "      <td>None</td>\n",
       "      <td>The kitchen.</td>\n",
       "      <td>def execute_command_0(video, possible_answers,...</td>\n",
       "      <td>0</td>\n",
       "      <td>What room was Wilson breaking into when House ...</td>\n",
       "      <td>data/videos/house_s07e01_seg02_clip_12.mp4</td>\n",
       "      <td>NaN</td>\n",
       "    </tr>\n",
       "  </tbody>\n",
       "</table>\n",
       "</div>"
      ],
      "text/plain": [
       "  result        answer                                               code  id  \\\n",
       "0   None  The kitchen.  def execute_command_0(video, possible_answers,...   0   \n",
       "\n",
       "                                               query  \\\n",
       "0  What room was Wilson breaking into when House ...   \n",
       "\n",
       "                                     img_path  possible_answers  \n",
       "0  data/videos/house_s07e01_seg02_clip_12.mp4               NaN  "
      ]
     },
     "execution_count": 5,
     "metadata": {},
     "output_type": "execute_result"
    }
   ],
   "source": [
    "# No answer is returned\n",
    "pd.read_csv('results/results_15.csv')"
   ]
  },
  {
   "cell_type": "code",
   "execution_count": 18,
   "metadata": {},
   "outputs": [
    {
     "name": "stdout",
     "output_type": "stream",
     "text": [
      "def execute_command_0(video, possible_answers, query, ImagePatch, VideoSegment, llm_query, bool_to_yesno, distance, best_image_match):\n",
      "    # Answer is:def execute_command(video):\n",
      "    video_segment = VideoSegment(video)\n",
      "    for frame in video_segment.frame_iterator():\n",
      "        if frame.exists(\"Wilson\") and frame.exists(\"House\") and frame.simple_query(\"What room is Wilson breaking into?\") == \"yes\":\n",
      "            return frame.llm_query(\"What room was Wilson breaking into when House found him?\")\n"
     ]
    }
   ],
   "source": [
    "print(pd.read_csv('results/results_15.csv')['code'][0])"
   ]
  },
  {
   "cell_type": "code",
   "execution_count": null,
   "metadata": {},
   "outputs": [],
   "source": [
    "# Lets take the llm_query method out of the prompt.\n",
    "# Run\n",
    "# conda activate vipergpt\n",
    "# CUDA_VISIBLE_DEVICES=0 CONFIG_NAMES=TVQA_video_config_nollm python main_batch.py"
   ]
  },
  {
   "cell_type": "code",
   "execution_count": 19,
   "metadata": {},
   "outputs": [
    {
     "data": {
      "text/plain": [
       "'\\nCode Generated:\\n===\\ndef execute_command_0(video, possible_answers, query, ImagePatch, VideoSegment, llm_query, bool_to_yesno, distance, best_image_match):\\n    # Answer is:def execute_command(video_segment):\\n    # Iterate over the frames in the video segment\\n    for frame in video_segment.frame_iterator():\\n        # Check if the frame contains Wilson breaking into a room\\n        if frame.exists(\"Wilson\") and frame.exists(\"breaking into\") and frame.exists(\"room\"):\\n            # Get the room name from the frame\\n            room_name = frame.simple_query(\"What is the room?\")\\n            return room_name\\n===\\n  0%|                                                                                     | 0/1 [00:00<?, ?it/s]Traceback (most recent call last):\\n  File \"/home/asehgal/viper/main_batch.py\", line 76, in run_program\\n    result = globals()[f\\'execute_command_{sample_id}\\'](\\n  File \"Codex\", line 4, in execute_command_0\\n    import pathlib\\nNameError: name \\'video_segment\\' is not defined\\nSample 0 failed with error: name \\'video_segment\\' is not defined. Next you will see an \"expected an indented block\" error. \\nSample 0 failed at compilation time with error: expected an indented block after function definition on line 1 (Codex, line 2)\\nTraceback (most recent call last):\\n  File \"/home/asehgal/viper/main_batch.py\", line 76, in run_program\\n    result = globals()[f\\'execute_command_{sample_id}\\'](\\n  File \"Codex\", line 4, in execute_command_0\\n    import pathlib\\nNameError: name \\'video_segment\\' is not defined\\n\\nDuring handling of the above exception, another exception occurred:\\n\\nTraceback (most recent call last):\\n  File \"/home/asehgal/viper/main_batch.py\", line 76, in run_program\\n    result = globals()[f\\'execute_command_{sample_id}\\'](\\n  File \"Codex\", line 3, in execute_command_0\\n    import os\\nNameError: name \\'image\\' is not defined\\n===\\nThe code is invalid.\\n'"
      ]
     },
     "execution_count": 19,
     "metadata": {},
     "output_type": "execute_result"
    }
   ],
   "source": [
    "\"\"\"\n",
    "Code Generated:\n",
    "===\n",
    "def execute_command_0(video, possible_answers, query, ImagePatch, VideoSegment, llm_query, bool_to_yesno, distance, best_image_match):\n",
    "    # Answer is:def execute_command(video_segment):\n",
    "    # Iterate over the frames in the video segment\n",
    "    for frame in video_segment.frame_iterator():\n",
    "        # Check if the frame contains Wilson breaking into a room\n",
    "        if frame.exists(\"Wilson\") and frame.exists(\"breaking into\") and frame.exists(\"room\"):\n",
    "            # Get the room name from the frame\n",
    "            room_name = frame.simple_query(\"What is the room?\")\n",
    "            return room_name\n",
    "===\n",
    "  0%|                                                                                     | 0/1 [00:00<?, ?it/s]Traceback (most recent call last):\n",
    "  File \"/home/asehgal/viper/main_batch.py\", line 76, in run_program\n",
    "    result = globals()[f'execute_command_{sample_id}'](\n",
    "  File \"Codex\", line 4, in execute_command_0\n",
    "    import pathlib\n",
    "NameError: name 'video_segment' is not defined\n",
    "Sample 0 failed with error: name 'video_segment' is not defined. Next you will see an \"expected an indented block\" error. \n",
    "Sample 0 failed at compilation time with error: expected an indented block after function definition on line 1 (Codex, line 2)\n",
    "Traceback (most recent call last):\n",
    "  File \"/home/asehgal/viper/main_batch.py\", line 76, in run_program\n",
    "    result = globals()[f'execute_command_{sample_id}'](\n",
    "  File \"Codex\", line 4, in execute_command_0\n",
    "    import pathlib\n",
    "NameError: name 'video_segment' is not defined\n",
    "\n",
    "During handling of the above exception, another exception occurred:\n",
    "\n",
    "Traceback (most recent call last):\n",
    "  File \"/home/asehgal/viper/main_batch.py\", line 76, in run_program\n",
    "    result = globals()[f'execute_command_{sample_id}'](\n",
    "  File \"Codex\", line 3, in execute_command_0\n",
    "    import os\n",
    "NameError: name 'image' is not defined\n",
    "===\n",
    "The code is invalid.\n",
    "\"\"\""
   ]
  },
  {
   "cell_type": "code",
   "execution_count": 20,
   "metadata": {},
   "outputs": [
    {
     "data": {
      "text/html": [
       "<div>\n",
       "<style scoped>\n",
       "    .dataframe tbody tr th:only-of-type {\n",
       "        vertical-align: middle;\n",
       "    }\n",
       "\n",
       "    .dataframe tbody tr th {\n",
       "        vertical-align: top;\n",
       "    }\n",
       "\n",
       "    .dataframe thead th {\n",
       "        text-align: right;\n",
       "    }\n",
       "</style>\n",
       "<table border=\"1\" class=\"dataframe\">\n",
       "  <thead>\n",
       "    <tr style=\"text-align: right;\">\n",
       "      <th></th>\n",
       "      <th>result</th>\n",
       "      <th>answer</th>\n",
       "      <th>code</th>\n",
       "      <th>id</th>\n",
       "      <th>query</th>\n",
       "      <th>img_path</th>\n",
       "      <th>possible_answers</th>\n",
       "    </tr>\n",
       "  </thead>\n",
       "  <tbody>\n",
       "    <tr>\n",
       "      <th>0</th>\n",
       "      <td>None</td>\n",
       "      <td>The kitchen.</td>\n",
       "      <td>def execute_command_0(video, possible_answers,...</td>\n",
       "      <td>0</td>\n",
       "      <td>What room was Wilson breaking into when House ...</td>\n",
       "      <td>data/videos/house_s07e01_seg02_clip_12.mp4</td>\n",
       "      <td>NaN</td>\n",
       "    </tr>\n",
       "  </tbody>\n",
       "</table>\n",
       "</div>"
      ],
      "text/plain": [
       "  result        answer                                               code  id  \\\n",
       "0   None  The kitchen.  def execute_command_0(video, possible_answers,...   0   \n",
       "\n",
       "                                               query  \\\n",
       "0  What room was Wilson breaking into when House ...   \n",
       "\n",
       "                                     img_path  possible_answers  \n",
       "0  data/videos/house_s07e01_seg02_clip_12.mp4               NaN  "
      ]
     },
     "execution_count": 20,
     "metadata": {},
     "output_type": "execute_result"
    }
   ],
   "source": [
    "pd.read_csv('results/results_16.csv')"
   ]
  },
  {
   "cell_type": "code",
   "execution_count": 21,
   "metadata": {},
   "outputs": [
    {
     "name": "stdout",
     "output_type": "stream",
     "text": [
      "def execute_command_0(video, possible_answers, query, ImagePatch, VideoSegment, llm_query, bool_to_yesno, distance, best_image_match):\n",
      "    # Answer is:def execute_command(video_segment):\n",
      "    # Iterate over the frames in the video segment\n",
      "    for frame in video_segment.frame_iterator():\n",
      "        # Check if the frame contains Wilson breaking into a room\n",
      "        if frame.exists(\"Wilson\") and frame.exists(\"breaking into\") and frame.exists(\"room\"):\n",
      "            # Get the room name from the frame\n",
      "            room_name = frame.simple_query(\"What is the room?\")\n",
      "            return room_name\n"
     ]
    }
   ],
   "source": [
    "print(pd.read_csv('results/results_16.csv')['code'][0])"
   ]
  }
 ],
 "metadata": {
  "kernelspec": {
   "display_name": "vipergpt",
   "language": "python",
   "name": "python3"
  },
  "language_info": {
   "codemirror_mode": {
    "name": "ipython",
    "version": 3
   },
   "file_extension": ".py",
   "mimetype": "text/x-python",
   "name": "python",
   "nbconvert_exporter": "python",
   "pygments_lexer": "ipython3",
   "version": "3.10.12"
  },
  "orig_nbformat": 4
 },
 "nbformat": 4,
 "nbformat_minor": 2
}
